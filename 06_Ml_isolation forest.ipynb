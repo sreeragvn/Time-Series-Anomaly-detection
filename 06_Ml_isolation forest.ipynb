{
 "cells": [
  {
   "cell_type": "code",
   "execution_count": null,
   "metadata": {},
   "outputs": [],
   "source": [
    "## oneclass svm and isolation forest\n",
    "# LOF (Local Outlier Factor): Detects anomalies by evaluating the local density deviation of data points."
   ]
  },
  {
   "cell_type": "code",
   "execution_count": null,
   "metadata": {},
   "outputs": [],
   "source": [
    "import numpy as np\n",
    "import pandas as pd\n",
    "import matplotlib.pyplot as plt\n",
    "from sklearn.mixture import GaussianMixture\n",
    "import plotly.graph_objects as go\n",
    "import plotly.subplots as sp\n",
    "from sklearn.ensemble import IsolationForest\n",
    "from plotly.subplots import make_subplots\n",
    "from plot_anomaly import multivariate_anomaly_plot\n",
    "\n",
    "# Load your data (replace this with your actual data loading step)\n",
    "# For demonstration, let's generate sample data similar to your distribution\n",
    "data = pd.read_csv(\"times_series_data_no_labels.csv\" ,\n",
    "    index_col='datetime',\n",
    "    parse_dates=['datetime']\n",
    "    )\n",
    "\n",
    "data.describe()"
   ]
  },
  {
   "cell_type": "markdown",
   "metadata": {},
   "source": [
    "## Raw input"
   ]
  },
  {
   "cell_type": "code",
   "execution_count": null,
   "metadata": {},
   "outputs": [],
   "source": [
    "iso_forest = IsolationForest(contamination=0.005, random_state=42)\n",
    "\n",
    "# Fit the model\n",
    "data['anomaly'] = iso_forest.fit_predict(data[['data_0', 'data_1']])\n",
    "data.loc[:, 'is_anomaly'] = data['anomaly'].apply(lambda x: True if x == -1 else False)\n",
    "\n",
    "multivariate_anomaly_plot(data)"
   ]
  },
  {
   "cell_type": "markdown",
   "metadata": {},
   "source": [
    "## Isolation forest - Feature engineering"
   ]
  },
  {
   "cell_type": "code",
   "execution_count": null,
   "metadata": {},
   "outputs": [],
   "source": [
    "data = pd.read_csv(\"times_series_data_no_labels.csv\" ,\n",
    "    index_col='datetime',\n",
    "    parse_dates=['datetime']\n",
    "    )\n",
    "\n",
    "data.describe()"
   ]
  },
  {
   "cell_type": "code",
   "execution_count": null,
   "metadata": {},
   "outputs": [],
   "source": [
    "from sklearn.preprocessing import StandardScaler\n",
    "\n",
    "window = 288\n",
    "data['hour'] = data.index.hour\n",
    "data['minute'] = data.index.minute\n",
    "data['timestamp'] = data['hour'] * 60 + data['minute']\n",
    "data['lag1_sensor1'] = data['data_0'].shift(1)\n",
    "data['lag1_sensor2'] = data['data_1'].shift(1)\n",
    "\n",
    "data['lag2_sensor1'] = data['data_0'].shift(2)\n",
    "data['lag2_sensor2'] = data['data_1'].shift(2)\n",
    "data['rolling_mean_sensor1'] = data['data_0'].rolling(window=window).mean()\n",
    "data['rolling_std_sensor1'] = data['data_0'].rolling(window=window).std()\n",
    "data['rolling_mean_sensor2'] = data['data_1'].rolling(window=window).mean()\n",
    "data['rolling_std_sensor2'] = data['data_1'].rolling(window=window).std()\n",
    "\n",
    "def night_time_indicator(dt):\n",
    "    if 23 <= dt.hour or dt.hour < 4:\n",
    "        return 0\n",
    "    else:\n",
    "        return 1\n",
    "    \n",
    "\n",
    "def ramp_up_down_time_indicator(dt):\n",
    "    if 4 <= dt.hour or dt.hour < 5:\n",
    "        return 3\n",
    "    elif 22 <= dt.hour or dt.hour < 23 :\n",
    "        return 2\n",
    "\n",
    "# Apply the function to the index and create a new column\n",
    "data['daytime_indicator'] = data.index.map(night_time_indicator)\n",
    "data['daytime_indicator'] = data.index.map(ramp_up_down_time_indicator)\n",
    "\n",
    "# Drop NaN values\n",
    "data.dropna(inplace=True)\n",
    "\n",
    "# Fit Isolation Forest\n",
    "features = ['data_0', \n",
    "            'data_1', \n",
    "            'lag1_sensor1', 'lag1_sensor2', \n",
    "            'lag2_sensor1', 'lag2_sensor2', \n",
    "            # \"hour\", \"minute\",\n",
    "            # \"timestamp\",\n",
    "            \"daytime_indicator\",\n",
    "            # 'rolling_mean_sensor1', 'rolling_std_sensor1', 'rolling_mean_sensor2', 'rolling_std_sensor2'\n",
    "            ]\n",
    "\n",
    "scaler = StandardScaler()\n",
    "np_scaled = scaler.fit_transform(data[features])\n",
    "data_scaled = pd.DataFrame(np_scaled)\n",
    "\n",
    "clf = IsolationForest(contamination=0.005, random_state=42)\n",
    "clf.fit(data_scaled)\n",
    "data['anomaly'] = clf.predict(data_scaled)\n",
    "\n",
    "# -1 for anomalies, 1 for normal\n",
    "\n",
    "data.loc[:, 'is_anomaly'] = data['anomaly'].apply(lambda x: True if x == -1 else False)\n",
    "\n",
    "multivariate_anomaly_plot(data)"
   ]
  },
  {
   "cell_type": "markdown",
   "metadata": {},
   "source": [
    "## Another implementation of isolation forest"
   ]
  },
  {
   "cell_type": "code",
   "execution_count": null,
   "metadata": {},
   "outputs": [],
   "source": [
    "data = pd.read_csv(\"times_series_data_no_labels.csv\" ,\n",
    "    index_col='datetime',\n",
    "    parse_dates=['datetime']\n",
    "    )\n",
    "\n",
    "data.describe()"
   ]
  },
  {
   "cell_type": "code",
   "execution_count": null,
   "metadata": {},
   "outputs": [],
   "source": [
    "from sklearn.preprocessing import StandardScaler\n",
    "\n",
    "scaler = StandardScaler()\n",
    "np_scaled = scaler.fit_transform(data)\n",
    "\n",
    "data_scaled = pd.DataFrame(np_scaled)\n",
    "\n",
    "# Isolation forest \n",
    "outliers_fraction = 0.005\n",
    "ifo = IsolationForest(contamination = outliers_fraction)\n",
    "\n",
    "ifo.fit(data_scaled)\n",
    "data['anomaly'] = ifo.predict(data_scaled)\n",
    "\n",
    "\n",
    "data.loc[:, 'is_anomaly'] = data['anomaly'].apply(lambda x: True if x == -1 else False)\n",
    "\n",
    "multivariate_anomaly_plot(data)"
   ]
  }
 ],
 "metadata": {
  "kernelspec": {
   "display_name": "dlr",
   "language": "python",
   "name": "python3"
  },
  "language_info": {
   "codemirror_mode": {
    "name": "ipython",
    "version": 3
   },
   "file_extension": ".py",
   "mimetype": "text/x-python",
   "name": "python",
   "nbconvert_exporter": "python",
   "pygments_lexer": "ipython3",
   "version": "3.9.19"
  }
 },
 "nbformat": 4,
 "nbformat_minor": 2
}
