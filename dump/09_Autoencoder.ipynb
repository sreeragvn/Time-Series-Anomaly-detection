{
 "cells": [
  {
   "cell_type": "code",
   "execution_count": 1,
   "metadata": {},
   "outputs": [
    {
     "name": "stderr",
     "output_type": "stream",
     "text": [
      "2024-07-23 13:03:23.452695: E external/local_xla/xla/stream_executor/cuda/cuda_fft.cc:485] Unable to register cuFFT factory: Attempting to register factory for plugin cuFFT when one has already been registered\n",
      "2024-07-23 13:03:23.527199: E external/local_xla/xla/stream_executor/cuda/cuda_dnn.cc:8454] Unable to register cuDNN factory: Attempting to register factory for plugin cuDNN when one has already been registered\n",
      "2024-07-23 13:03:23.552169: E external/local_xla/xla/stream_executor/cuda/cuda_blas.cc:1452] Unable to register cuBLAS factory: Attempting to register factory for plugin cuBLAS when one has already been registered\n",
      "2024-07-23 13:03:23.661842: I tensorflow/core/platform/cpu_feature_guard.cc:210] This TensorFlow binary is optimized to use available CPU instructions in performance-critical operations.\n",
      "To enable the following instructions: AVX2 FMA, in other operations, rebuild TensorFlow with the appropriate compiler flags.\n",
      "2024-07-23 13:03:24.954147: W tensorflow/compiler/tf2tensorrt/utils/py_utils.cc:38] TF-TRT Warning: Could not find TensorRT\n"
     ]
    }
   ],
   "source": [
    "import tensorflow as tf\n",
    "import matplotlib.pyplot as plt\n",
    "import numpy as np\n",
    "import pandas as pd\n",
    "import os\n",
    "os.environ['TF_GPU_ALLOCATOR'] = 'cuda_malloc_async'\n",
    "from sklearn.preprocessing import StandardScaler\n",
    "from tensorflow.keras import layers, losses\n",
    "from sklearn.model_selection import train_test_split\n",
    "from tensorflow.keras.models import Model\n",
    "\n",
    "import warnings\n",
    "warnings.filterwarnings('ignore')"
   ]
  },
  {
   "cell_type": "code",
   "execution_count": 2,
   "metadata": {},
   "outputs": [
    {
     "name": "stderr",
     "output_type": "stream",
     "text": [
      "WARNING: All log messages before absl::InitializeLog() is called are written to STDERR\n",
      "I0000 00:00:1721732606.593148  402459 cuda_executor.cc:1015] successful NUMA node read from SysFS had negative value (-1), but there must be at least one NUMA node, so returning NUMA node zero. See more at https://github.com/torvalds/linux/blob/v6.0/Documentation/ABI/testing/sysfs-bus-pci#L344-L355\n",
      "I0000 00:00:1721732606.702335  402459 cuda_executor.cc:1015] successful NUMA node read from SysFS had negative value (-1), but there must be at least one NUMA node, so returning NUMA node zero. See more at https://github.com/torvalds/linux/blob/v6.0/Documentation/ABI/testing/sysfs-bus-pci#L344-L355\n",
      "I0000 00:00:1721732606.702779  402459 cuda_executor.cc:1015] successful NUMA node read from SysFS had negative value (-1), but there must be at least one NUMA node, so returning NUMA node zero. See more at https://github.com/torvalds/linux/blob/v6.0/Documentation/ABI/testing/sysfs-bus-pci#L344-L355\n"
     ]
    }
   ],
   "source": [
    "gpus = tf.config.experimental.list_physical_devices('GPU')\n",
    "if gpus:\n",
    "    try:\n",
    "        for gpu in gpus:\n",
    "            tf.config.experimental.set_memory_growth(gpu, True)\n",
    "    except RuntimeError as e:\n",
    "        print(e)"
   ]
  },
  {
   "cell_type": "code",
   "execution_count": 3,
   "metadata": {},
   "outputs": [
    {
     "data": {
      "text/html": [
       "<div>\n",
       "<style scoped>\n",
       "    .dataframe tbody tr th:only-of-type {\n",
       "        vertical-align: middle;\n",
       "    }\n",
       "\n",
       "    .dataframe tbody tr th {\n",
       "        vertical-align: top;\n",
       "    }\n",
       "\n",
       "    .dataframe thead th {\n",
       "        text-align: right;\n",
       "    }\n",
       "</style>\n",
       "<table border=\"1\" class=\"dataframe\">\n",
       "  <thead>\n",
       "    <tr style=\"text-align: right;\">\n",
       "      <th></th>\n",
       "      <th>data_0</th>\n",
       "      <th>data_1</th>\n",
       "    </tr>\n",
       "  </thead>\n",
       "  <tbody>\n",
       "    <tr>\n",
       "      <th>count</th>\n",
       "      <td>51840.000000</td>\n",
       "      <td>51840.000000</td>\n",
       "    </tr>\n",
       "    <tr>\n",
       "      <th>mean</th>\n",
       "      <td>27.428187</td>\n",
       "      <td>27.427566</td>\n",
       "    </tr>\n",
       "    <tr>\n",
       "      <th>std</th>\n",
       "      <td>4.276855</td>\n",
       "      <td>4.281787</td>\n",
       "    </tr>\n",
       "    <tr>\n",
       "      <th>min</th>\n",
       "      <td>16.042714</td>\n",
       "      <td>16.342305</td>\n",
       "    </tr>\n",
       "    <tr>\n",
       "      <th>25%</th>\n",
       "      <td>23.792250</td>\n",
       "      <td>23.832418</td>\n",
       "    </tr>\n",
       "    <tr>\n",
       "      <th>50%</th>\n",
       "      <td>29.712173</td>\n",
       "      <td>29.709107</td>\n",
       "    </tr>\n",
       "    <tr>\n",
       "      <th>75%</th>\n",
       "      <td>30.188862</td>\n",
       "      <td>30.189345</td>\n",
       "    </tr>\n",
       "    <tr>\n",
       "      <th>max</th>\n",
       "      <td>41.066048</td>\n",
       "      <td>41.122645</td>\n",
       "    </tr>\n",
       "  </tbody>\n",
       "</table>\n",
       "</div>"
      ],
      "text/plain": [
       "             data_0        data_1\n",
       "count  51840.000000  51840.000000\n",
       "mean      27.428187     27.427566\n",
       "std        4.276855      4.281787\n",
       "min       16.042714     16.342305\n",
       "25%       23.792250     23.832418\n",
       "50%       29.712173     29.709107\n",
       "75%       30.188862     30.189345\n",
       "max       41.066048     41.122645"
      ]
     },
     "execution_count": 3,
     "metadata": {},
     "output_type": "execute_result"
    }
   ],
   "source": [
    "data = pd.read_csv(\"times_series_data_no_labels.csv\" ,\n",
    "    index_col='datetime',\n",
    "    parse_dates=['datetime']\n",
    "    )\n",
    "\n",
    "data.describe()"
   ]
  },
  {
   "cell_type": "code",
   "execution_count": 4,
   "metadata": {},
   "outputs": [
    {
     "name": "stdout",
     "output_type": "stream",
     "text": [
      "(44064, 2) (7776, 2)\n"
     ]
    }
   ],
   "source": [
    "train_size = int(len(data) * 0.85)\n",
    "test_size = len(data) - train_size\n",
    "train, test = data.iloc[0:train_size], data.iloc[train_size:len(data)]\n",
    "\n",
    "print(train.shape, test.shape)\n",
    "\n",
    "# # Standardize the data\n",
    "# scaler = StandardScaler()\n",
    "# scaler.fit(train[['data_0']])\n",
    "\n",
    "# # Transform and explicitly cast to float64\n",
    "# train_transformed = scaler.transform(train[['data_0']]).astype('float64')\n",
    "# test_transformed = scaler.transform(test[['data_0']]).astype('float64')\n",
    "\n",
    "# Assign the transformed values back to the DataFrame\n",
    "train = pd.DataFrame(train, columns=['data_0'])\n",
    "test = pd.DataFrame(test, columns=['data_0'])\n",
    "\n",
    "def create_dataset(X, y, time_steps=1):\n",
    "    Xs, ys = [], []\n",
    "    for i in range(len(X) - time_steps):\n",
    "        v = X.iloc[i:(i + time_steps)].values\n",
    "        Xs.append(v)\n",
    "        ys.append(y.iloc[i + time_steps])\n",
    "    return np.array(Xs), np.array(ys)"
   ]
  },
  {
   "cell_type": "code",
   "execution_count": 5,
   "metadata": {},
   "outputs": [
    {
     "name": "stderr",
     "output_type": "stream",
     "text": [
      "I0000 00:00:1721732608.239281  402459 cuda_executor.cc:1015] successful NUMA node read from SysFS had negative value (-1), but there must be at least one NUMA node, so returning NUMA node zero. See more at https://github.com/torvalds/linux/blob/v6.0/Documentation/ABI/testing/sysfs-bus-pci#L344-L355\n",
      "I0000 00:00:1721732608.251161  402459 cuda_executor.cc:1015] successful NUMA node read from SysFS had negative value (-1), but there must be at least one NUMA node, so returning NUMA node zero. See more at https://github.com/torvalds/linux/blob/v6.0/Documentation/ABI/testing/sysfs-bus-pci#L344-L355\n",
      "I0000 00:00:1721732608.251510  402459 cuda_executor.cc:1015] successful NUMA node read from SysFS had negative value (-1), but there must be at least one NUMA node, so returning NUMA node zero. See more at https://github.com/torvalds/linux/blob/v6.0/Documentation/ABI/testing/sysfs-bus-pci#L344-L355\n",
      "I0000 00:00:1721732608.480519  402459 cuda_executor.cc:1015] successful NUMA node read from SysFS had negative value (-1), but there must be at least one NUMA node, so returning NUMA node zero. See more at https://github.com/torvalds/linux/blob/v6.0/Documentation/ABI/testing/sysfs-bus-pci#L344-L355\n",
      "I0000 00:00:1721732608.480758  402459 cuda_executor.cc:1015] successful NUMA node read from SysFS had negative value (-1), but there must be at least one NUMA node, so returning NUMA node zero. See more at https://github.com/torvalds/linux/blob/v6.0/Documentation/ABI/testing/sysfs-bus-pci#L344-L355\n",
      "2024-07-23 13:03:28.480902: I tensorflow/core/common_runtime/gpu/gpu_process_state.cc:198] Using CUDA malloc Async allocator for GPU: 0\n",
      "I0000 00:00:1721732608.481068  402459 cuda_executor.cc:1015] successful NUMA node read from SysFS had negative value (-1), but there must be at least one NUMA node, so returning NUMA node zero. See more at https://github.com/torvalds/linux/blob/v6.0/Documentation/ABI/testing/sysfs-bus-pci#L344-L355\n",
      "2024-07-23 13:03:28.481450: I tensorflow/core/common_runtime/gpu/gpu_device.cc:2021] Created device /job:localhost/replica:0/task:0/device:GPU:0 with 2791 MB memory:  -> device: 0, name: NVIDIA GeForce GTX 1650 Ti, pci bus id: 0000:01:00.0, compute capability: 7.5\n"
     ]
    }
   ],
   "source": [
    "TIME_STEPS = 288\n",
    "\n",
    "X_train, _ = create_dataset(train[['data_0']], train.data_0, TIME_STEPS)\n",
    "X_test, _ = create_dataset(test[['data_0']], test.data_0, TIME_STEPS)\n",
    "\n",
    "min = tf.reduce_min(X_train)\n",
    "max = tf.reduce_max(X_test)\n",
    "\n",
    "#Now we will use the formula (data - min)/(max - min)\n",
    "train_data = (X_train - min)/(max - min)\n",
    "test_data = (X_test - min)/(max - min)\n",
    "\n",
    "#I have converted the data into float\n",
    "train_data = tf.cast(train_data, dtype=tf.float32)\n",
    "test_data = tf.cast(test_data, dtype=tf.float32)    "
   ]
  },
  {
   "cell_type": "code",
   "execution_count": 6,
   "metadata": {},
   "outputs": [],
   "source": [
    "\n",
    "class detector(Model):\n",
    "    def __init__(self):\n",
    "        super(detector, self).__init__()\n",
    "        self.encoder = tf.keras.Sequential([\n",
    "                                            layers.Dense(64, activation='relu'),\n",
    "                                            layers.Dense(32, activation='relu'),\n",
    "                                            layers.Dense(8, activation='relu')\n",
    "        ])\n",
    "        self.decoder = tf.keras.Sequential([\n",
    "                                            layers.Dense(16, activation='relu'),\n",
    "                                            layers.Dense(32, activation='relu'),\n",
    "                                            layers.Dense(288, activation='sigmoid')\n",
    "        ])\n",
    "\n",
    "    def call(self, x):\n",
    "        encoded = self.encoder(x)\n",
    "        decoded = self.decoder(encoded)\n",
    "        return decoded\n"
   ]
  },
  {
   "cell_type": "markdown",
   "metadata": {},
   "source": [
    "### In the reference he trained the model, with non-anomalous data"
   ]
  },
  {
   "cell_type": "code",
   "execution_count": 7,
   "metadata": {},
   "outputs": [
    {
     "name": "stdout",
     "output_type": "stream",
     "text": [
      "Epoch 1/5\n"
     ]
    },
    {
     "name": "stderr",
     "output_type": "stream",
     "text": [
      "WARNING: All log messages before absl::InitializeLog() is called are written to STDERR\n",
      "I0000 00:00:1721732610.419910  403029 service.cc:146] XLA service 0x7ddd78031d90 initialized for platform Host (this does not guarantee that XLA will be used). Devices:\n",
      "I0000 00:00:1721732610.419954  403029 service.cc:154]   StreamExecutor device (0): Host, Default Version\n",
      "2024-07-23 13:03:30.473736: I tensorflow/compiler/mlir/tensorflow/utils/dump_mlir_util.cc:268] disabling MLIR crash reproducer, set env var `MLIR_CRASH_REPRODUCER_DIRECTORY` to enable.\n"
     ]
    },
    {
     "name": "stdout",
     "output_type": "stream",
     "text": [
      "\u001b[1m  1/171\u001b[0m \u001b[37m━━━━━━━━━━━━━━━━━━━━\u001b[0m \u001b[1m6:16\u001b[0m 2s/step - loss: 0.3316"
     ]
    },
    {
     "name": "stderr",
     "output_type": "stream",
     "text": [
      "I0000 00:00:1721732611.177454  403029 device_compiler.h:188] Compiled cluster using XLA!  This line is logged at most once for the lifetime of the process.\n"
     ]
    },
    {
     "name": "stdout",
     "output_type": "stream",
     "text": [
      "\u001b[1m171/171\u001b[0m \u001b[32m━━━━━━━━━━━━━━━━━━━━\u001b[0m\u001b[37m\u001b[0m \u001b[1m32s\u001b[0m 177ms/step - loss: 0.2703 - val_loss: 0.1106\n",
      "Epoch 2/5\n",
      "\u001b[1m171/171\u001b[0m \u001b[32m━━━━━━━━━━━━━━━━━━━━\u001b[0m\u001b[37m\u001b[0m \u001b[1m30s\u001b[0m 174ms/step - loss: 0.0734 - val_loss: 0.0066\n",
      "Epoch 3/5\n",
      "\u001b[1m171/171\u001b[0m \u001b[32m━━━━━━━━━━━━━━━━━━━━\u001b[0m\u001b[37m\u001b[0m \u001b[1m30s\u001b[0m 175ms/step - loss: 0.0076 - val_loss: 0.0034\n",
      "Epoch 4/5\n",
      "\u001b[1m171/171\u001b[0m \u001b[32m━━━━━━━━━━━━━━━━━━━━\u001b[0m\u001b[37m\u001b[0m \u001b[1m30s\u001b[0m 175ms/step - loss: 0.0050 - val_loss: 0.0031\n",
      "Epoch 5/5\n",
      "\u001b[1m171/171\u001b[0m \u001b[32m━━━━━━━━━━━━━━━━━━━━\u001b[0m\u001b[37m\u001b[0m \u001b[1m29s\u001b[0m 169ms/step - loss: 0.0047 - val_loss: 0.0043\n"
     ]
    }
   ],
   "source": [
    "with tf.device('/CPU:0'):\n",
    "    autoencoder = detector()\n",
    "    autoencoder.compile(optimizer='adam', loss='mae')\n",
    "    autoencoder.fit(train_data, train_data, epochs=5, batch_size=256, validation_data=(test_data, test_data))"
   ]
  },
  {
   "cell_type": "code",
   "execution_count": 8,
   "metadata": {},
   "outputs": [
    {
     "name": "stderr",
     "output_type": "stream",
     "text": [
      "2024-07-23 13:06:04.018213: W external/local_tsl/tsl/framework/cpu_allocator_impl.cc:83] Allocation of 2484338688 exceeds 10% of free system memory.\n"
     ]
    },
    {
     "data": {
      "image/png": "[encoded data removed]",
      "text/plain": [
       "<Figure size 640x480 with 1 Axes>"
      ]
     },
     "metadata": {},
     "output_type": "display_data"
    }
   ],
   "source": [
    "def plot(data, n, batch_size=32):\n",
    "    # Process data in batches to reduce memory usage\n",
    "    num_samples = data.shape[0]\n",
    "    enc_img = []\n",
    "    dec_img = []\n",
    "    \n",
    "    for i in range(0, num_samples, batch_size):\n",
    "        batch_data = data[i:i + batch_size]\n",
    "        batch_enc = autoencoder.encoder(batch_data)\n",
    "        batch_dec = autoencoder.decoder(batch_enc)\n",
    "        enc_img.append(batch_enc)\n",
    "        dec_img.append(batch_dec)\n",
    "    \n",
    "    enc_img = tf.concat(enc_img, axis=0)\n",
    "    dec_img = tf.concat(dec_img, axis=0)\n",
    "\n",
    "    # Plot the original and reconstructed data for sample n\n",
    "    plt.plot(data[n], 'b')\n",
    "    plt.plot(dec_img[n], 'r')\n",
    "    plt.legend(labels=['Input', 'Reconstruction'])\n",
    "    plt.show()\n",
    "\n",
    "# Plot the results for a test data sample\n",
    "with tf.device('/CPU:0'):\n",
    "    plot(test_data, 0)"
   ]
  },
  {
   "cell_type": "code",
   "execution_count": 9,
   "metadata": {},
   "outputs": [],
   "source": [
    "from tensorflow.keras import backend as K\n",
    "K.clear_session()"
   ]
  },
  {
   "cell_type": "code",
   "execution_count": 10,
   "metadata": {},
   "outputs": [
    {
     "name": "stderr",
     "output_type": "stream",
     "text": [
      "2024-07-23 13:06:07.366216: W external/local_tsl/tsl/framework/cpu_allocator_impl.cc:83] Allocation of 3227516928 exceeds 10% of free system memory.\n",
      "2024-07-23 13:06:07.884330: W external/local_tsl/tsl/framework/cpu_allocator_impl.cc:83] Allocation of 3227516928 exceeds 10% of free system memory.\n",
      "2024-07-23 13:06:10.722894: W external/local_tsl/tsl/framework/cpu_allocator_impl.cc:83] Allocation of 3227516928 exceeds 10% of free system memory.\n",
      "2024-07-23 13:06:11.431617: W external/local_tsl/tsl/framework/cpu_allocator_impl.cc:83] Allocation of 1613758464 exceeds 10% of free system memory.\n"
     ]
    }
   ],
   "source": [
    "with tf.device('/CPU:0'):\n",
    "    reconstructed = autoencoder(train_data)\n",
    "    train_loss = losses.mae(train_data, reconstructed)\n",
    "    t = np.mean(train_loss.numpy()) + np.std(train_loss.numpy())\n",
    "def prediction(model, data, threshold):\n",
    "  with tf.device('/CPU:0'):\n",
    "    rec = model.predict(data, batch_size=32)\n",
    "    loss = losses.mae(data, rec)\n",
    "    return tf.math.less(loss, threshold)"
   ]
  },
  {
   "cell_type": "code",
   "execution_count": null,
   "metadata": {},
   "outputs": [
    {
     "name": "stdout",
     "output_type": "stream",
     "text": [
      "\u001b[1m1368/1368\u001b[0m \u001b[32m━━━━━━━━━━━━━━━━━━━━\u001b[0m\u001b[37m\u001b[0m \u001b[1m6s\u001b[0m 4ms/step\n"
     ]
    }
   ],
   "source": [
    "\n",
    "pred = prediction(autoencoder, train_data, t)\n",
    "print(pred)"
   ]
  }
 ],
 "metadata": {
  "kernelspec": {
   "display_name": "dlr",
   "language": "python",
   "name": "python3"
  },
  "language_info": {
   "codemirror_mode": {
    "name": "ipython",
    "version": 3
   },
   "file_extension": ".py",
   "mimetype": "text/x-python",
   "name": "python",
   "nbconvert_exporter": "python",
   "pygments_lexer": "ipython3",
   "version": "3.9.19"
  }
 },
 "nbformat": 4,
 "nbformat_minor": 2
}
