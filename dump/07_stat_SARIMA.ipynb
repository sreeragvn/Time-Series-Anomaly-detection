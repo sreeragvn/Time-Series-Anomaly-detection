{
 "cells": [
  {
   "cell_type": "markdown",
   "metadata": {},
   "source": [
    "Also try facebook prophet. \n",
    "Have to find how to choose the parameters of SARIMA"
   ]
  },
  {
   "cell_type": "markdown",
   "metadata": {},
   "source": [
    "SARIMA (Seasonal ARIMA): Extends ARIMA to handle seasonality."
   ]
  },
  {
   "cell_type": "markdown",
   "metadata": {},
   "source": [
    "Exponential Smoothing: Suitable for data with trend and seasonality.\n",
    "Simple Exponential Smoothing: Suitable for data without trend or seasonality.\n",
    "Holt’s Linear Trend Model: Suitable for data with a trend but no seasonality.\n",
    "Holt-Winters Seasonal Model: Suitable for data with trend and seasonality."
   ]
  },
  {
   "cell_type": "markdown",
   "metadata": {},
   "source": [
    "3. Identify ARIMA Parameters (p, d, q)\n",
    "p (AR term): The lag of the autoregressive model. Look for the lag value where the PACF plot cuts off to zero.\n",
    "d (Difference order): Since your data is already stationary, d should be 0.\n",
    "q (MA term): The lag of the moving average model. Look for the lag value where the ACF plot cuts off to zero.\n",
    "4. Identify Seasonal Parameters (P, D, Q, s)\n",
    "P (Seasonal AR term): The lag of the seasonal autoregressive model. Look for the seasonal lag value in the PACF plot.\n",
    "D (Seasonal difference order): If there's seasonal variation that’s not stationary, use seasonal differencing (e.g., daily seasonality might require a lag of 1 day). In your case, D is likely 1.\n",
    "Q (Seasonal MA term): The lag of the seasonal moving average model. Look for the seasonal lag value in the ACF plot.\n",
    "s (Seasonal period): The number of periods in one seasonal cycle. For daily seasonality, s would be 24 for hourly data or 7 for weekly data."
   ]
  },
  {
   "cell_type": "markdown",
   "metadata": {},
   "source": [
    "Identify Parameters\n",
    "From the ACF and PACF plots, you might determine:\n",
    "p (AR term): 1 (based on PACF cutoff)\n",
    "d (Difference order): 0 (data is stationary)\n",
    "q (MA term): 1 (based on ACF cutoff)\n",
    "P (Seasonal AR term): 1 (based on seasonal PACF)\n",
    "D (Seasonal difference order): 1 (to account for daily seasonality)\n",
    "Q (Seasonal MA term): 1 (based on seasonal ACF)\n",
    "s (Seasonal period): 24 (for hourly data with daily seasonality)"
   ]
  },
  {
   "cell_type": "markdown",
   "metadata": {},
   "source": [
    "Stationarity: Your data is already stationary (p-value 0.0 in ADF test).\n",
    "ARIMA parameters: Identify p and q from PACF and ACF plots.\n",
    "Seasonal parameters: Identify P, D, Q, and s from seasonally differenced ACF and PACF plots."
   ]
  },
  {
   "cell_type": "markdown",
   "metadata": {},
   "source": [
    "Learn how to interpret autocorrelation and partial autocorrelation"
   ]
  },
  {
   "cell_type": "markdown",
   "metadata": {},
   "source": [
    "Autoregressive (AR) and Moving Average (MA) models are two fundamental time series models used in forecasting and analysis. Here are the key differences between them:\n",
    "\n",
    "Autoregressive (AR) Models\n",
    "Definition: An AR model uses the relationship between an observation and a number of lagged observations (previous time points).\n",
    "\n",
    "Interpretation: The current value of the series is based on a linear combination of past values and a stochastic error term.\n",
    "Parameters: The key parameter is \n",
    "𝑝\n",
    "p, the number of lagged observations included in the model.\n",
    "Characteristic: AR models are useful when past values have a direct influence on current values.\n",
    "\n",
    "\n"
   ]
  },
  {
   "cell_type": "markdown",
   "metadata": {},
   "source": [
    "\n",
    "Moving Average (MA) Models\n",
    "Definition: An MA model uses past forecast errors in a regression-like model.\n",
    "Interpretation: The current value of the series is based on a linear combination of past error terms and the mean.\n",
    "Parameters: The key parameter is \n",
    "𝑞\n",
    "q, the number of lagged forecast errors included in the model.\n",
    "Characteristic: MA models are useful when the errors in previous forecasts have a direct influence on the current value.\n",
    "\n",
    "AR Models: Suitable for time series where the future value depends heavily on its own past values, such as stock prices or temperature series.\n",
    "MA Models: Suitable for time series where future values are best predicted using past errors, often seen in financial time series or economic indicators.\n",
    "\n",
    "ARMA assume stationarity\n",
    "ARIMA  for non stationarity data but not seasonal\n",
    "SARIMA seasonal"
   ]
  },
  {
   "cell_type": "code",
   "execution_count": null,
   "metadata": {},
   "outputs": [],
   "source": [
    "import pandas as pd\n",
    "import numpy as np\n",
    "import matplotlib.pyplot as plt\n",
    "from statsmodels.tsa.statespace.sarimax import SARIMAX\n",
    "from statsmodels.tsa.stattools import adfuller\n",
    "from statsmodels.graphics.tsaplots import plot_acf, plot_pacf\n",
    "from sklearn.metrics import mean_squared_error\n",
    "from statsmodels.tsa.seasonal import seasonal_decompose\n"
   ]
  },
  {
   "cell_type": "code",
   "execution_count": null,
   "metadata": {},
   "outputs": [],
   "source": [
    "data = pd.read_csv(\"times_series_data_no_labels.csv\" ,\n",
    "    index_col='datetime',\n",
    "    parse_dates=['datetime']\n",
    "    )\n",
    "data.describe()"
   ]
  },
  {
   "cell_type": "code",
   "execution_count": null,
   "metadata": {},
   "outputs": [],
   "source": [
    "ts = data['data_0'].asfreq('5min')\n",
    "result = adfuller(ts)\n",
    "if result[1] > 0.05:\n",
    "    ts = ts.diff().dropna()\n",
    "\n",
    "# Plot ACF and PACF\n",
    "plot_acf(ts)\n",
    "plot_pacf(ts)\n",
    "plt.show()\n"
   ]
  },
  {
   "cell_type": "markdown",
   "metadata": {},
   "source": [
    "The autocorrelation plot you provided indicates the presence of a significant trend in the time series data. Here’s a detailed interpretation:\n",
    "\n",
    "Strong Positive Autocorrelation: The autocorrelation values are close to 1 for smaller lags and gradually decrease as the lag increases. This suggests that the data points in the series are highly correlated with their previous values, indicating a strong trend component.\n",
    "\n",
    "Gradual Decline: The autocorrelation values decline gradually, which is characteristic of a time series with a strong trend or persistence over time. This means that past values have a strong influence on future values, and the series does not quickly revert to the mean.\n",
    "\n",
    "Non-randomness: The consistent and slowly declining autocorrelation values indicate that the time series is not random. There is a discernible pattern or structure in the data.\n",
    "\n",
    "Trend Detection: This pattern is often seen in time series data that exhibit a trend. It suggests that the series is non-stationary, and differencing or detrending might be necessary to achieve stationarity before further analysis or modeling.\n",
    "\n",
    "Implications for Modeling\n",
    "Given this autocorrelation pattern, here are a few implications for modeling the time series data:\n",
    "\n",
    "Differencing: Applying differencing (e.g., first differencing) to the series might help in achieving stationarity, which is often required for time series modeling techniques like ARIMA.\n",
    "Trend Component: Consider including a trend component in your time series model to account for the persistent trend observed in the data.\n",
    "AR Models: Autoregressive models might be appropriate, but ensure that you address the non-stationarity through differencing or transformation."
   ]
  },
  {
   "cell_type": "markdown",
   "metadata": {},
   "source": [
    "The partial autocorrelation plot (PACF) you provided gives us additional insights into the time series data, especially regarding the autoregressive (AR) order.\n",
    "\n",
    "Interpretation of the PACF Plot\n",
    "Significant Lags: The plot shows significant spikes at lag 1 and possibly lag 2, with the values dropping off to near zero afterwards. This suggests that the first and second lag terms are significantly correlated with the current value of the time series, but beyond that, the partial autocorrelation is negligible.\n",
    "\n",
    "Order of AR Model: The significant spikes at the initial lags and the rapid decline to near zero indicates that an AR(2) model might be appropriate for this time series. This means that the current value of the series is well explained by the two most recent past values.\n",
    "\n",
    "Non-randomness and Stationarity: The significant autocorrelations at the first lags confirm the presence of a structure in the time series. Since the PACF cuts off after a few lags, it suggests that if the series is made stationary (possibly by differencing), an AR model might be suitable.\n",
    "\n",
    "Steps for Further Analysis\n",
    "Given these observations from both the ACF and PACF plots:\n",
    "\n",
    "Stationarity Check: Verify the stationarity of the time series using tests like the Augmented Dickey-Fuller (ADF) test. If non-stationary, apply differencing.\n",
    "Model Selection: Consider fitting an AR(2) model based on the PACF plot. If the series is non-stationary, apply differencing before fitting the model.\n",
    "Model Diagnostics: After fitting the model, perform diagnostics to check the residuals for white noise and ensure no patterns remain."
   ]
  },
  {
   "cell_type": "markdown",
   "metadata": {},
   "source": [
    "ACF Plot:\n",
    "The ACF plot shows a gradual decline, indicating a possible AR process.\n",
    "PACF Plot:\n",
    "The PACF plot shows significant spikes at lags 1 and 2 and then cuts off, suggesting an AR process."
   ]
  },
  {
   "cell_type": "markdown",
   "metadata": {},
   "source": [
    "Choosing Parameters:\n",
    "ARIMA Parameters (p, d, q):\n",
    "p (AR term): The significant spikes at lags 1 and 2 in the PACF plot suggest that \n",
    "p=2.\n",
    "d (Difference order): Since the series is stationary (as per the ADF test), \n",
    "d=0.\n",
    "q (MA term): The ACF plot suggests a gradual decline, which is indicative of an AR process, but for the sake of completeness, we might start with \n",
    "q=0 and adjust if needed.\n",
    "\n",
    "Seasonal Parameters (P, D, Q, s):\n",
    "P (Seasonal AR term): Based on the ACF and PACF, let's start with \n",
    "P=1.\n",
    "D (Seasonal difference order): Since there's daily seasonality, \n",
    "D=1.\n",
    "Q (Seasonal MA term): Start with \n",
    "Q=0.\n",
    "s (Seasonal period): For daily seasonality in hourly data, \n",
    "s=288.\n"
   ]
  },
  {
   "cell_type": "code",
   "execution_count": null,
   "metadata": {},
   "outputs": [],
   "source": [
    "# Plot ACF and PACF for original data\n",
    "plot_acf(ts)\n",
    "plot_pacf(ts)\n",
    "plt.show()\n",
    "\n",
    "# Seasonal differencing\n",
    "ts_seasonal_diff = ts.diff(288).dropna()\n",
    "\n",
    "# Plot ACF and PACF for seasonally differenced data\n",
    "plot_acf(ts_seasonal_diff)\n",
    "plot_pacf(ts_seasonal_diff)\n",
    "plt.show()"
   ]
  },
  {
   "cell_type": "code",
   "execution_count": null,
   "metadata": {},
   "outputs": [],
   "source": [
    "ts_test = ts[-11840:]\n",
    "ts = ts[:-11840]"
   ]
  },
  {
   "cell_type": "code",
   "execution_count": null,
   "metadata": {},
   "outputs": [],
   "source": [
    "# Fit SARIMA model\n",
    "p, d, q = 2, 0, 0\n",
    "P, D, Q, s = 1, 1, 0, 288  # s = 288 for daily seasonality in 5-minute intervals\n",
    "\n",
    "\n",
    "ts = ts[:-600]\n",
    "ts.values"
   ]
  },
  {
   "cell_type": "code",
   "execution_count": 9,
   "metadata": {},
   "outputs": [],
   "source": [
    "model = SARIMAX(ts.values, order=(p, d, q), seasonal_order=(P, D, Q, s))\n",
    "results = model.fit(disp=True)\n",
    "print(results.summary())\n",
    "\n",
    "# Diagnostics\n",
    "\n",
    "results.plot_diagnostics(figsize=(15, 12))\n",
    "plt.show()\n",
    "\n",
    "# Forecast\n",
    "forecast = results.get_forecast(steps=11840)\n",
    "forecast_ci = forecast.conf_int()"
   ]
  },
  {
   "cell_type": "markdown",
   "metadata": {},
   "source": [
    "Start with the identified parameters and evaluate the model.\n",
    "Check the residuals from the diagnostics plot; they should be white noise.\n",
    "If necessary, iterate by adjusting the ARIMA and seasonal parameters based on model diagnostics and performance metrics."
   ]
  }
 ],
 "metadata": {
  "kernelspec": {
   "display_name": "dlr",
   "language": "python",
   "name": "python3"
  },
  "language_info": {
   "codemirror_mode": {
    "name": "ipython",
    "version": 3
   },
   "file_extension": ".py",
   "mimetype": "text/x-python",
   "name": "python",
   "nbconvert_exporter": "python",
   "pygments_lexer": "ipython3",
   "version": "3.9.19"
  }
 },
 "nbformat": 4,
 "nbformat_minor": 2
}
