{
 "cells": [
  {
   "cell_type": "code",
   "execution_count": null,
   "metadata": {},
   "outputs": [],
   "source": [
    "import pandas as pd\n",
    "import numpy as np\n",
    "import matplotlib.pyplot as plt\n",
    "from statsmodels.tsa.statespace.sarimax import SARIMAX\n",
    "from statsmodels.tsa.stattools import adfuller\n",
    "from statsmodels.graphics.tsaplots import plot_acf, plot_pacf\n",
    "from sklearn.metrics import mean_squared_error\n",
    "from statsmodels.tsa.seasonal import seasonal_decompose\n"
   ]
  },
  {
   "cell_type": "code",
   "execution_count": null,
   "metadata": {},
   "outputs": [],
   "source": [
    "data = pd.read_csv(\"times_series_data_no_labels.csv\" ,\n",
    "    index_col='datetime',\n",
    "    parse_dates=['datetime']\n",
    "    )\n",
    "data.describe()"
   ]
  },
  {
   "cell_type": "code",
   "execution_count": null,
   "metadata": {},
   "outputs": [],
   "source": [
    "ts = data['data_0'].asfreq('5min')\n",
    "result = adfuller(ts)\n",
    "if result[1] > 0.05:\n",
    "    ts = ts.diff().dropna()\n",
    "\n",
    "# Plot ACF and PACF\n",
    "plot_acf(ts)\n",
    "plot_pacf(ts)\n",
    "plt.show()\n"
   ]
  },
  {
   "cell_type": "code",
   "execution_count": null,
   "metadata": {},
   "outputs": [],
   "source": [
    "ts_test = ts[-11840:]\n",
    "ts = ts[:-11840]"
   ]
  },
  {
   "cell_type": "code",
   "execution_count": null,
   "metadata": {},
   "outputs": [],
   "source": [
    "# Fit SARIMA model\n",
    "p, d, q = 2, 0, 0\n",
    "P, D, Q, s = 1, 1, 0, 288  # s = 288 for daily seasonality in 5-minute intervals\n",
    "\n",
    "\n",
    "ts = ts[:-1000]\n",
    "model = SARIMAX(ts, order=(p, d, q), seasonal_order=(P, D, Q, s))\n",
    "results = model.fit(disp=True)\n",
    "print(results.summary())\n",
    "\n",
    "# Diagnostics\n",
    "\n",
    "results.plot_diagnostics(figsize=(15, 12))\n",
    "plt.show()\n",
    "\n",
    "# Forecast\n",
    "forecast = results.get_forecast(steps=11840)\n",
    "forecast_ci = forecast.conf_int()"
   ]
  }
 ],
 "metadata": {
  "kernelspec": {
   "display_name": "dlr",
   "language": "python",
   "name": "python3"
  },
  "language_info": {
   "codemirror_mode": {
    "name": "ipython",
    "version": 3
   },
   "file_extension": ".py",
   "mimetype": "text/x-python",
   "name": "python",
   "nbconvert_exporter": "python",
   "pygments_lexer": "ipython3",
   "version": "3.9.19"
  }
 },
 "nbformat": 4,
 "nbformat_minor": 2
}
