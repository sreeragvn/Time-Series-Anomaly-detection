{
 "cells": [
  {
   "cell_type": "code",
   "execution_count": 3,
   "metadata": {},
   "outputs": [],
   "source": [
    "import pandas as pd"
   ]
  },
  {
   "cell_type": "code",
   "execution_count": 4,
   "metadata": {},
   "outputs": [
    {
     "data": {
      "text/html": [
       "<div>\n",
       "<style scoped>\n",
       "    .dataframe tbody tr th:only-of-type {\n",
       "        vertical-align: middle;\n",
       "    }\n",
       "\n",
       "    .dataframe tbody tr th {\n",
       "        vertical-align: top;\n",
       "    }\n",
       "\n",
       "    .dataframe thead th {\n",
       "        text-align: right;\n",
       "    }\n",
       "</style>\n",
       "<table border=\"1\" class=\"dataframe\">\n",
       "  <thead>\n",
       "    <tr style=\"text-align: right;\">\n",
       "      <th></th>\n",
       "      <th>datetime</th>\n",
       "      <th>data_0</th>\n",
       "      <th>data_1</th>\n",
       "    </tr>\n",
       "  </thead>\n",
       "  <tbody>\n",
       "    <tr>\n",
       "      <th>0</th>\n",
       "      <td>2023-01-01 00:00:00</td>\n",
       "      <td>21.719925</td>\n",
       "      <td>19.925141</td>\n",
       "    </tr>\n",
       "    <tr>\n",
       "      <th>1</th>\n",
       "      <td>2023-01-01 00:05:00</td>\n",
       "      <td>21.357656</td>\n",
       "      <td>19.671888</td>\n",
       "    </tr>\n",
       "    <tr>\n",
       "      <th>2</th>\n",
       "      <td>2023-01-01 00:10:00</td>\n",
       "      <td>20.178934</td>\n",
       "      <td>19.543689</td>\n",
       "    </tr>\n",
       "    <tr>\n",
       "      <th>3</th>\n",
       "      <td>2023-01-01 00:15:00</td>\n",
       "      <td>19.197688</td>\n",
       "      <td>18.872886</td>\n",
       "    </tr>\n",
       "    <tr>\n",
       "      <th>4</th>\n",
       "      <td>2023-01-01 00:20:00</td>\n",
       "      <td>20.098658</td>\n",
       "      <td>19.599005</td>\n",
       "    </tr>\n",
       "  </tbody>\n",
       "</table>\n",
       "</div>"
      ],
      "text/plain": [
       "             datetime     data_0     data_1\n",
       "0 2023-01-01 00:00:00  21.719925  19.925141\n",
       "1 2023-01-01 00:05:00  21.357656  19.671888\n",
       "2 2023-01-01 00:10:00  20.178934  19.543689\n",
       "3 2023-01-01 00:15:00  19.197688  18.872886\n",
       "4 2023-01-01 00:20:00  20.098658  19.599005"
      ]
     },
     "execution_count": 4,
     "metadata": {},
     "output_type": "execute_result"
    }
   ],
   "source": [
    "data = pd.read_csv(\"times_series_data_no_labels.csv\" ,\n",
    "    # index_col='datetime',\n",
    "    parse_dates=['datetime']\n",
    "    )\n",
    "data.head()"
   ]
  },
  {
   "cell_type": "code",
   "execution_count": 16,
   "metadata": {},
   "outputs": [],
   "source": [
    "data_0_anomaly = [\n",
    "    (\"2023-01-03 01:15:00\",\n",
    "     \"2023-01-03 01:25:00\"),\n",
    "\n",
    "    (\"2023-02-05 01:50:00\",\n",
    "     \"2023-02-05 02:15:00\"),\n",
    "\n",
    "    (\"2023-02-10 14:15:00\",\n",
    "     \"2023-02-10 15:10:00\"),\n",
    "\n",
    "    (\"2023-03-31 05:20:00\",\n",
    "     \"2023-03-31 11:20:00\"),\n",
    "\n",
    "    (\"2023-03-06 07:10:00\",\n",
    "     \"2023-03-06 09:25:00\"),\n",
    "\n",
    "    (\"2023-03-23 13:05:00\",\n",
    "     \"2023-03-23 14:00:00\"),\n",
    "\n",
    "    (\"2023-04-14 04:30:00\",\n",
    "     \"2023-04-14 10:40:00\"),\n",
    "\n",
    "    (\"2023-05-05 13:30:00\",\n",
    "     \"2023-05-05 14:20:00\"),\n",
    "\n",
    "    (\"2023-06-02 05:15:00\",\n",
    "     \"2023-06-02 11:45:00\")\n",
    "]\n",
    "\n",
    "data_1_anomaly = [\n",
    "    [\"2023-01-03 01:45:00\",\n",
    "     \"2023-01-03 01:50:00\"],\n",
    "\n",
    "    [\"2023-01-03 22:30:00\",\n",
    "     \"2023-01-03 22:40:00\"],\n",
    "\n",
    "    [\"2023-02-05 01:25:00\",\n",
    "     \"2023-02-05 01:55:00\"],\n",
    "\n",
    "    [\"2023-02-03 01:35:00\",\n",
    "     \"2023-02-03 02:00:00\"],\n",
    "\n",
    "    [\"2023-03-31 05:25:00\",\n",
    "     \"2023-03-31 11:40:00\"],\n",
    "\n",
    "    [\"2023-03-23 13:30:00\",\n",
    "     \"2023-03-23 14:25:00\"],\n",
    "\n",
    "    [\"2023-03-28 22:35:00\",\n",
    "     \"2023-03-28 22:50:00\"],\n",
    "\n",
    "    [\"2023-04-14 04:35:00\",\n",
    "     \"2023-04-14 10:30:00\"],\n",
    "\n",
    "    [\"2023-05-13 07:15:00\",\n",
    "     \"2023-05-13 09:25:00\"],\n",
    "\n",
    "    [\"2023-05-05 14:00:00\",\n",
    "     \"2023-05-05 14:55:00\"],\n",
    "\n",
    "    [\"2023-06-02 05:15:00\",\n",
    "     \"2023-06-02 11:30:00\"]\n",
    "]"
   ]
  },
  {
   "cell_type": "code",
   "execution_count": 17,
   "metadata": {},
   "outputs": [],
   "source": [
    "data['data_0_anomaly'] = 0\n",
    "data['data_1_anomaly'] = 0\n",
    "def add_anomaly(df, sensor, anomaly_timestamps):\n",
    "    if sensor == 0:\n",
    "        for timestamp in anomaly_timestamps:\n",
    "            print(timestamp)\n",
    "            df.loc[(df['datetime'] >= pd.to_datetime(timestamp[0])) & (df['datetime'] <= pd.to_datetime(timestamp[1])), 'data_0_anomaly'] = 1\n",
    "    else:\n",
    "        for timestamp in anomaly_timestamps:\n",
    "            df.loc[(df['datetime'] >= pd.to_datetime(timestamp[0])) & (df['datetime'] <= pd.to_datetime(timestamp[1])), 'data_1_anomaly'] = 1"
   ]
  },
  {
   "cell_type": "code",
   "execution_count": 21,
   "metadata": {},
   "outputs": [
    {
     "name": "stdout",
     "output_type": "stream",
     "text": [
      "('2023-01-03 01:15:00', '2023-01-03 01:25:00')\n",
      "('2023-02-05 01:50:00', '2023-02-05 02:15:00')\n",
      "('2023-02-10 14:15:00', '2023-02-10 15:10:00')\n",
      "('2023-03-31 05:20:00', '2023-03-31 11:20:00')\n",
      "('2023-03-06 07:10:00', '2023-03-06 09:25:00')\n",
      "('2023-03-23 13:05:00', '2023-03-23 14:00:00')\n",
      "('2023-04-14 04:30:00', '2023-04-14 10:40:00')\n",
      "('2023-05-05 13:30:00', '2023-05-05 14:20:00')\n",
      "('2023-06-02 05:15:00', '2023-06-02 11:45:00')\n"
     ]
    }
   ],
   "source": [
    "add_anomaly(data, 0, data_0_anomaly)\n",
    "add_anomaly(data, 1, data_1_anomaly)"
   ]
  }
 ],
 "metadata": {
  "kernelspec": {
   "display_name": "dlr",
   "language": "python",
   "name": "python3"
  },
  "language_info": {
   "codemirror_mode": {
    "name": "ipython",
    "version": 3
   },
   "file_extension": ".py",
   "mimetype": "text/x-python",
   "name": "python",
   "nbconvert_exporter": "python",
   "pygments_lexer": "ipython3",
   "version": "3.9.19"
  }
 },
 "nbformat": 4,
 "nbformat_minor": 2
}
