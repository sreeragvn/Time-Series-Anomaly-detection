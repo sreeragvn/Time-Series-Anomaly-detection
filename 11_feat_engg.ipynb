{
 "cells": [
  {
   "cell_type": "code",
   "execution_count": null,
   "metadata": {},
   "outputs": [],
   "source": [
    "# A variety of resamples which I may or may not use\n",
    "df_hourly = df.set_index('timestamp').resample('H').mean().reset_index()\n",
    "df_daily = df.set_index('timestamp').resample('D').mean().reset_index()\n",
    "df_weekly = df.set_index('timestamp').resample('W').mean().reset_index()"
   ]
  },
  {
   "cell_type": "code",
   "execution_count": null,
   "metadata": {},
   "outputs": [],
   "source": [
    "# New features \n",
    "# Loop to cycle through both DataFrames\n",
    "for DataFrame in [df_hourly, df_daily]:\n",
    "    DataFrame['Weekday'] = (pd.Categorical(DataFrame['timestamp'].dt.strftime('%A'),\n",
    "                                           categories=['Monday', 'Tuesday', 'Wednesday', 'Thursday','Friday', 'Saturday', 'Sunday'])\n",
    "                           )\n",
    "    DataFrame['Hour'] = DataFrame['timestamp'].dt.hour\n",
    "    DataFrame['Day'] = DataFrame['timestamp'].dt.weekday\n",
    "    DataFrame['Month'] = DataFrame['timestamp'].dt.month\n",
    "    DataFrame['Year'] = DataFrame['timestamp'].dt.year\n",
    "    DataFrame['Month_day'] = DataFrame['timestamp'].dt.day\n",
    "    DataFrame['Lag'] = DataFrame['value'].shift(1)\n",
    "    DataFrame['Rolling_Mean'] = DataFrame['value'].rolling(7, min_periods=1).mean()\n",
    "    DataFrame = DataFrame.dropna()"
   ]
  },
  {
   "cell_type": "code",
   "execution_count": null,
   "metadata": {},
   "outputs": [],
   "source": [
    "df['year'] = pd.DatetimeIndex(df['date']).year\n",
    "df['month'] = pd.DatetimeIndex(df['date']).month\n",
    "df['day'] = pd.DatetimeIndex(df['date']).day\n",
    "df['day_of_year'] = pd.DatetimeIndex(df['date']).dayofyear\n",
    "df['week_of_year'] = pd.DatetimeIndex(df['date']).weekofyear\n",
    "df['quarter'] = pd.DatetimeIndex(df['date']).quarter\n",
    "df['season'] = df['month'] % 12 // 3 + 1"
   ]
  },
  {
   "cell_type": "markdown",
   "metadata": {},
   "source": [
    "3.1 Encoding Cyclical Features"
   ]
  },
  {
   "cell_type": "code",
   "execution_count": null,
   "metadata": {},
   "outputs": [],
   "source": [
    "month_in_year = 12\n",
    "df['month_sin'] = np.sin(2*np.pi*df['month']/month_in_year)\n",
    "df['month_cos'] = np.cos(2*np.pi*df['month']/month_in_year)\n",
    "\n",
    "f, ax = plt.subplots(nrows=1, ncols=1, figsize=(6, 6))\n",
    "\n",
    "sns.scatterplot(x=df.month_sin, y=df.month_cos, color='dodgerblue')\n",
    "plt.show()"
   ]
  },
  {
   "cell_type": "markdown",
   "metadata": {},
   "source": [
    "We want to calculate each variable with a shift() (lag) to compare the correlationwith the other variables."
   ]
  },
  {
   "cell_type": "code",
   "execution_count": null,
   "metadata": {},
   "outputs": [],
   "source": [
    "weeks_in_month = 4\n",
    "\n",
    "for column in core_columns:\n",
    "    df[f'{column}_seasonal_shift_b_2m'] = df[f'{column}_seasonal'].shift(-2 * weeks_in_month)\n",
    "    df[f'{column}_seasonal_shift_b_1m'] = df[f'{column}_seasonal'].shift(-1 * weeks_in_month)\n",
    "    df[f'{column}_seasonal_shift_1m'] = df[f'{column}_seasonal'].shift(1 * weeks_in_month)\n",
    "    df[f'{column}_seasonal_shift_2m'] = df[f'{column}_seasonal'].shift(2 * weeks_in_month)\n",
    "    df[f'{column}_seasonal_shift_3m'] = df[f'{column}_seasonal'].shift(3 * weeks_in_month)"
   ]
  }
 ],
 "metadata": {
  "language_info": {
   "name": "python"
  }
 },
 "nbformat": 4,
 "nbformat_minor": 2
}
